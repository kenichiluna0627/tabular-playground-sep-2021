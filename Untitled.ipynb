{
 "cells": [
  {
   "cell_type": "code",
   "execution_count": null,
   "metadata": {},
   "outputs": [],
   "source": [
    "def amicable_num(from_num, to_num):\n",
    "    amicable_nums = []\n",
    "    duplicates = []  # 重複計算回避のためのリスト\n",
    "    for num in range(from_num, to_num+1):\n",
    "        if num not in duplicates:\n",
    "        # num の自身を除く約数の合計を取得\n",
    "            div_sum = divisor_sum(num)\n",
    "        # 所謂完全数については対が自身となるため、計算対象から除外\n",
    "            if num != div_sum:\n",
    "            # 約数の合計の約数の合計（ややこしい）\n",
    "                ami_sum = divisor_sum(div_sum)\n",
    "            # 友愛数の判定\n",
    "                if num == ami_sum:\n",
    "                # print(f\"{num}の自身を除く約数の合計(div_sum):{div_sum}\")  # デバッグ用\n",
    "                # print(f\"{div_sum}の自身を除く約数の合計(ami_sum):{ami_sum}\")  # デバッグ用\n",
    "                    amicable_nums.append([num, div_sum])\n",
    "                # div_sumを計算済みとしてリストアップし、のちのループで重複しないようにする\n",
    "                    duplicates.append(div_sum)\n",
    "        return amicable_nums\n",
    "\n",
    "\n",
    "def divisor_sum(num):\n",
    "\t\"\"\"\n",
    "\t:param num: 約数を計算する対象の数\n",
    "\t:return: numの自信を除く約数の合計値\n",
    "\t\"\"\"\n",
    "\tdivisors = []  # 列挙した約数のリスト\n",
    "\tdivide = 1\n",
    "\twhile True:\n",
    "\t\tdiv, mod = divmod(num, divide)\n",
    "\t\t# divide が num の約数かを判定し、リストに追加\n",
    "\t\tif mod == 0:\n",
    "\t\t\tdivisors.append(divide)\n",
    "\t\t\t# 平方数でなければ求めた商も約数リストに追加\n",
    "\t\t\tif divide != div:\n",
    "\t\t\t\tdivisors.append(div)\n",
    "\t\tdivide += 1\n",
    "\t\t# 終了判定\n",
    "\t\tif divide >= div:\n",
    "\t\t\tdivisors.sort()\n",
    "\treturn sum(divisors[:-1])\n",
    "\n",
    "\n",
    "print(amicable_num(1, 1000))\n",
    "\n"
   ]
  },
  {
   "cell_type": "code",
   "execution_count": null,
   "metadata": {},
   "outputs": [],
   "source": []
  }
 ],
 "metadata": {
  "kernelspec": {
   "display_name": "Python 3",
   "language": "python",
   "name": "python3"
  },
  "language_info": {
   "codemirror_mode": {
    "name": "ipython",
    "version": 3
   },
   "file_extension": ".py",
   "mimetype": "text/x-python",
   "name": "python",
   "nbconvert_exporter": "python",
   "pygments_lexer": "ipython3",
   "version": "3.7.6"
  }
 },
 "nbformat": 4,
 "nbformat_minor": 4
}
